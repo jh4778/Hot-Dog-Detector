!pip install -r requirements.txt
!python hotdog_detector.py
