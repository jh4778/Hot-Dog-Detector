{
  "nbformat": 4,
  "nbformat_minor": 0,
  "metadata": {
    "colab": {
      "provenance": [],
      "authorship_tag": "ABX9TyMOUQXgB2L6OjNi/tr1mJMX",
      "include_colab_link": true
    },
    "kernelspec": {
      "name": "python3",
      "display_name": "Python 3"
    },
    "language_info": {
      "name": "python"
    }
  },
  "cells": [
    {
      "cell_type": "markdown",
      "metadata": {
        "id": "view-in-github",
        "colab_type": "text"
      },
      "source": [
        "<a href=\"https://colab.research.google.com/github/jh4778/Hot-Dog-Detector/blob/main/colab1.ipynb\" target=\"_parent\"><img src=\"https://colab.research.google.com/assets/colab-badge.svg\" alt=\"Open In Colab\"/></a>"
      ]
    },
    {
      "cell_type": "code",
      "source": [
        "!git clone https://github.com/jh4778/hotdog-detector.git\n",
        "%cd hotdog-detector\n",
        "!pip install -r requirements.txt"
      ],
      "metadata": {
        "id": "zRU1XGSG1CrE"
      },
      "execution_count": null,
      "outputs": []
    },
    {
      "cell_type": "code",
      "source": [
        "!python hotdog_detector.py"
      ],
      "metadata": {
        "id": "uSl7QFc10tCw"
      },
      "execution_count": null,
      "outputs": []
    }
  ]
}